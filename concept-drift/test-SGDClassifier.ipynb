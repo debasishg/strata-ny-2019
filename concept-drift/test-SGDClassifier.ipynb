{
 "cells": [
  {
   "cell_type": "markdown",
   "metadata": {},
   "source": [
    "(code inspired by https://github.com/SmileYuhao/concept-drift)"
   ]
  },
  {
   "cell_type": "code",
   "execution_count": 1,
   "metadata": {
    "collapsed": false
   },
   "outputs": [],
   "source": [
    "import matplotlib.pyplot as plt\n",
    "import numpy as np\n",
    "import pandas as pd\n",
    "from sklearn import preprocessing\n",
    "from sklearn.linear_model import SGDClassifier\n",
    "\n",
    "from skmultiflow.drift_detection.adwin import ADWIN\n",
    "from skmultiflow.drift_detection.page_hinkley import PageHinkley"
   ]
  },
  {
   "cell_type": "code",
   "execution_count": 2,
   "metadata": {
    "collapsed": true
   },
   "outputs": [],
   "source": [
    "def read_data(filename):\n",
    "    df = pd.read_csv(filename)\n",
    "    data = df.values\n",
    "    return data[:, :-1], data[:, -1]"
   ]
  },
  {
   "cell_type": "markdown",
   "metadata": {},
   "source": [
    "# Incremental Training"
   ]
  },
  {
   "cell_type": "markdown",
   "metadata": {},
   "source": [
    "A classifier that replaces the current classifier with one that supports `partial_fit` and does incremental training only on the samples passed.\n",
    "\n",
    "`fit`: Fit linear model with Stochastic Gradient Descent. \n",
    "`partial_fit`: Perform one epoch of stochastic gradient descent on given samples."
   ]
  },
  {
   "cell_type": "code",
   "execution_count": 3,
   "metadata": {
    "collapsed": true
   },
   "outputs": [],
   "source": [
    "\"\"\"\"Classifier that replaces the current classifier with a new one when a change is detected in accuracy.\n",
    "\"\"\"\n",
    "from sklearn import clone\n",
    "from sklearn.base import BaseEstimator\n",
    "from sklearn.metrics import accuracy_score\n",
    "\n",
    "\n",
    "class DetectorClassifier(BaseEstimator):\n",
    "    def __init__(self, clf, detection_method, classes):\n",
    "        if not hasattr(clf, \"partial_fit\"):\n",
    "            raise TypeError(\"Choose incremental classifier\")\n",
    "        self.clf = clf\n",
    "        self.detection_method = detection_method\n",
    "        self.classes = classes\n",
    "        self.change_detected = 0\n",
    "\n",
    "    def fit(self, X, y):\n",
    "        self.clf.fit(X, y)\n",
    "        return self\n",
    "\n",
    "    def partial_fit(self, X, y):\n",
    "        pre_y = self.clf.predict(X)\n",
    "        self.detection_method.add_element(accuracy_score(pre_y, y))\n",
    "        if self.detection_method.detected_change():\n",
    "            self.change_detected += 1\n",
    "            self.clf = clone(self.clf)\n",
    "            self.clf.partial_fit(X, y, classes=self.classes)\n",
    "        else:\n",
    "            self.clf.partial_fit(X, y)\n",
    "\n",
    "    def predict(self, X):\n",
    "        return self.clf.predict(X)"
   ]
  },
  {
   "cell_type": "markdown",
   "metadata": {},
   "source": [
    "# Prequential Evaluation"
   ]
  },
  {
   "cell_type": "markdown",
   "metadata": {},
   "source": [
    "In data stream mining, the most used evaluation scheme is the prequential or interleaved-test-then-train evolution. The idea is very simple: we use each instance first to test the model, and then to train the model."
   ]
  },
  {
   "cell_type": "code",
   "execution_count": 4,
   "metadata": {
    "collapsed": true
   },
   "outputs": [],
   "source": [
    "from time import clock\n",
    "\n",
    "import numpy as np\n",
    "\n",
    "\n",
    "def prequential(X, y, clf, n_train=1):\n",
    "    \"\"\"Prequential Evaluation: instances are first used to test, and then to train\n",
    "    :return the label predictions for each test instance, and the associated running time\n",
    "    \"\"\"\n",
    "    row_num = y.shape[0]\n",
    "    # Split an init batch\n",
    "    X_init = X[0:n_train]\n",
    "    y_init = y[0:n_train]\n",
    "\n",
    "    # Used for training and evaluation\n",
    "    X_train = X[n_train:]\n",
    "    y_train = y[n_train:]\n",
    "\n",
    "    y_pre = np.zeros(row_num - n_train)\n",
    "    time = np.zeros(row_num - n_train)\n",
    "\n",
    "    clf.fit(X_init, y_init)\n",
    "\n",
    "    for i in range(0, row_num - n_train):\n",
    "        start_time = clock()\n",
    "        y_pre[i] = clf.predict(X_train[i, :].reshape(1, -1))\n",
    "        clf.partial_fit(X_train[i, :].reshape(1, -1), y_train[i].reshape(1, -1).ravel())\n",
    "        time[i] = clock() - start_time\n",
    "\n",
    "    return y_pre, time"
   ]
  },
  {
   "cell_type": "code",
   "execution_count": 5,
   "metadata": {
    "collapsed": false
   },
   "outputs": [
    {
     "name": "stdout",
     "output_type": "stream",
     "text": [
      "\n",
      "SGDClassifier:\n"
     ]
    },
    {
     "name": "stderr",
     "output_type": "stream",
     "text": [
      "/Users/debasishghosh/anaconda3/lib/python3.6/site-packages/sklearn/linear_model/stochastic_gradient.py:166: FutureWarning: max_iter and tol parameters have been added in SGDClassifier in 0.19. If both are left unset, they default to max_iter=5 and tol=None. If tol is not None, max_iter defaults to max_iter=1000. From 0.21, default max_iter will be 1000, and default tol will be 1e-3.\n",
      "  FutureWarning)\n"
     ]
    },
    {
     "name": "stdout",
     "output_type": "stream",
     "text": [
      "Mean acc within the window 10000: 0.8412686049247499\n",
      "\n",
      "Page-Hinkley:\n"
     ]
    },
    {
     "name": "stderr",
     "output_type": "stream",
     "text": [
      "/Users/debasishghosh/anaconda3/lib/python3.6/site-packages/sklearn/linear_model/stochastic_gradient.py:166: FutureWarning: max_iter and tol parameters have been added in SGDClassifier in 0.19. If both are left unset, they default to max_iter=5 and tol=None. If tol is not None, max_iter defaults to max_iter=1000. From 0.21, default max_iter will be 1000, and default tol will be 1e-3.\n",
      "  FutureWarning)\n"
     ]
    },
    {
     "name": "stdout",
     "output_type": "stream",
     "text": [
      "Drift detection: 2\n",
      "Mean acc within the window 10000: 0.9859824118697018\n",
      "\n",
      "AdWin:\n"
     ]
    },
    {
     "name": "stderr",
     "output_type": "stream",
     "text": [
      "/Users/debasishghosh/anaconda3/lib/python3.6/site-packages/sklearn/linear_model/stochastic_gradient.py:166: FutureWarning: max_iter and tol parameters have been added in SGDClassifier in 0.19. If both are left unset, they default to max_iter=5 and tol=None. If tol is not None, max_iter defaults to max_iter=1000. From 0.21, default max_iter will be 1000, and default tol will be 1e-3.\n",
      "  FutureWarning)\n"
     ]
    },
    {
     "name": "stdout",
     "output_type": "stream",
     "text": [
      "Drift detection: 46\n",
      "Mean acc within the window 10000: 0.9922927325463476\n"
     ]
    },
    {
     "data": {
      "image/png": "[encoded data removed]",
      "text/plain": [
       "<Figure size 432x288 with 1 Axes>"
      ]
     },
     "metadata": {},
     "output_type": "display_data"
    }
   ],
   "source": [
    "if __name__ == '__main__':\n",
    "    n_train = 1000\n",
    "    X, y = read_data(\"data/kddcup_refactored.csv\")\n",
    "    # Set x,y as numeric\n",
    "    X = X.astype(float)\n",
    "    label = [\"normal.\", \"abnormal.\"]\n",
    "    \n",
    "    le = preprocessing.LabelEncoder()\n",
    "    le.fit(label)\n",
    "    y = le.transform(y)\n",
    "\n",
    "    w = 10000\n",
    "\n",
    "    clfs = [\n",
    "        SGDClassifier(),\n",
    "        DetectorClassifier(SGDClassifier(), PageHinkley(), np.unique(y)),\n",
    "        DetectorClassifier(SGDClassifier(), ADWIN(), np.unique(y))\n",
    "    ]\n",
    "    clfs_label = [\"SGDClassifier\", \"Page-Hinkley\", \"AdWin\"]\n",
    "\n",
    "    plt.title(\"Accuracy (exact match)\")\n",
    "    plt.xlabel(\"Instances\")\n",
    "    plt.ylabel(\"Accuracy\")\n",
    "\n",
    "    for i in range(len(clfs)):\n",
    "        print(\"\\n{}:\".format(clfs_label[i]))\n",
    "        with np.errstate(divide='ignore', invalid='ignore'):\n",
    "            y_pre, time = prequential(X, y, clfs[i], n_train)\n",
    "        if clfs[i].__class__.__name__ == \"DetectorClassifier\":\n",
    "            print(\"Drift detection: {}\".format(clfs[i].change_detected))\n",
    "        estimator = (y[n_train:] == y_pre) * 1\n",
    "\n",
    "        acc_run = np.convolve(estimator, np.ones((w,)) / w, 'same')\n",
    "        print(\"Mean acc within the window {}: {}\".format(w, np.mean(acc_run)))\n",
    "        plt.plot(acc_run, \"-\", label=clfs_label[i])\n",
    "\n",
    "    plt.legend(loc='lower right')\n",
    "    plt.ylim([0, 1])\n",
    "    plt.show()"
   ]
  },
  {
   "cell_type": "code",
   "execution_count": null,
   "metadata": {
    "collapsed": true
   },
   "outputs": [],
   "source": []
  }
 ],
 "metadata": {
  "kernelspec": {
   "display_name": "Python [conda env:anaconda3]",
   "language": "python",
   "name": "conda-env-anaconda3-py"
  },
  "language_info": {
   "codemirror_mode": {
    "name": "ipython",
    "version": 3
   },
   "file_extension": ".py",
   "mimetype": "text/x-python",
   "name": "python",
   "nbconvert_exporter": "python",
   "pygments_lexer": "ipython3",
   "version": "3.6.8"
  }
 },
 "nbformat": 4,
 "nbformat_minor": 2
}
